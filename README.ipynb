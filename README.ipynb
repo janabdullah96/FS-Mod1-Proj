{
 "cells": [
  {
   "cell_type": "markdown",
   "metadata": {},
   "source": [
    "# Module 1 Final Project \n",
    "\n"
   ]
  },
  {
   "cell_type": "markdown",
   "metadata": {},
   "source": [
    "**Description: Our client has created a new movie studio, but need's consultation to help them better understand this new market they are entering. In this project, we explore and analyze movie-related data to provide insights on ideal movie characteristics that contribute to success.**"
   ]
  },
  {
   "cell_type": "markdown",
   "metadata": {},
   "source": [
    "### Datasets\n",
    "For this project, we use the provided datasets in .csv and .tsv format from IMDB, TMDB, and TN databases. We store all these databases in a SQLITE databases for ease of access and querying"
   ]
  },
  {
   "cell_type": "markdown",
   "metadata": {},
   "source": [
    "### Modules\n",
    "\n",
    "I've created a few modules that I use to complete my analysis:\n",
    "\n",
    "- loader.py - contains methods for reading the raw datasets in .csv and .tsv formats as pandas dataframes, and uploading dataframes onto SQLITE3 databases\n",
    "- sqlreader.py - contains methods for reading SQL queries and returning query results as pandas dataframes\n",
    "- cleaner.py - contains methods for initial cleaning of raw datasets\n",
    "- grapher.py - contains methods for plotting various types of graphs with some standard attributes\n",
    "\n",
    "### Configs\n",
    "- thresholds.json - configuration file used in the cleaner.py module to set specifications/parameters for cleaning"
   ]
  },
  {
   "cell_type": "markdown",
   "metadata": {},
   "source": [
    "### Notebooks/Questions\n",
    "\n",
    "1. question_1.ipynb - What were the top 3 highest rated movie genres in the last decade? \n",
    "2. question_2.ipynb - Which actors and directors contributed to more successful movies in the top 3 genres?\n",
    "3. question_3.ipynb - For the top 3 genres, what is the average domestic and foreign YoY gross revenue? What is the relationship between production cost and gross revenue?\n",
    "4. question_4.ipynb - What is the relationship between movie runtime and ratings?"
   ]
  },
  {
   "cell_type": "markdown",
   "metadata": {},
   "source": [
    "### Presentations\n",
    "\n",
    "1. presentation.pdf"
   ]
  },
  {
   "cell_type": "markdown",
   "metadata": {},
   "source": [
    "W"
   ]
  },
  {
   "cell_type": "markdown",
   "metadata": {},
   "source": []
  }
 ],
 "metadata": {
  "kernelspec": {
   "display_name": "Python 3",
   "language": "python",
   "name": "python3"
  },
  "language_info": {
   "codemirror_mode": {
    "name": "ipython",
    "version": 3
   },
   "file_extension": ".py",
   "mimetype": "text/x-python",
   "name": "python",
   "nbconvert_exporter": "python",
   "pygments_lexer": "ipython3",
   "version": "3.6.5"
  }
 },
 "nbformat": 4,
 "nbformat_minor": 2
}
